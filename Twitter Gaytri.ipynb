{
 "cells": [
  {
   "cell_type": "code",
   "execution_count": 1,
   "id": "9226084f",
   "metadata": {},
   "outputs": [
    {
     "name": "stdout",
     "output_type": "stream",
     "text": [
      "मुख्यमंत्री उद्धव बाळासाहेब ठाकरे यांच्या अध्यक्षतेत झालेल्या बीडीडी चाळीच्या बैठकीत नायगाव, एन.एम.जोशी, वरळीतील पु… https://t.co/BjHYJG68nQ\n",
      "आज मुख्यमंत्री उद्धव बाळासाहेब ठाकरे यांच्या अध्यक्षतेखाली अतिरिक्त ऊस गाळप अनुदानाबाबत बैठक पार पडली. यावेळी मुख्य… https://t.co/MktZOdcpbL\n",
      "मुख्यमंत्री उद्धव बाळासाहेब ठाकरे यांच्या हस्ते आज मिनाझ मर्चंट लिखित 'इक्बाल सिंह चहल - कोविड वॉरियर' या पुस्तकाचे… https://t.co/TxDccoqL8z\n",
      "मुख्यमंत्री उद्धव बाळासाहेब ठाकरे यांनी बुद्ध पौर्णिमेनिमित्त तथागत गौतम बुद्धांना अभिवादन करून जनतेला शुभेच्छा दि… https://t.co/5KmKI2NQni\n",
      "१४ वेळच्या चॅम्पियन इंडोनेशियाचा एकतर्फी पराभव करून थॉमस कप २०२२ चे विजेतेपद पटकाविणाऱ्या भारतीय बॅडमिंटन संघाचे अ… https://t.co/XlhfVuvmOW\n",
      "RT @MSInSociety: Applications are open for Maharashtra Startup Week 2022! @mahastartupweek the flagship program of \n",
      "@MSInSociety provides T…\n",
      "प्रबोधनकार ठाकरे यांच्या कन्या, शिवसेनाप्रमुख बाळासाहेब ठाकरे यांच्या भगिनी अर्थात माझी आत्या संजीवनी करंदीकर यां… https://t.co/NcsKR0Fed9\n",
      "RT @OfficeofUT: शिवसेनेचे दिवंगत आमदार रमेश लटके जी यांच्या पार्थिवावर आज शासकीय इतमामात अंत्यसंस्कार करण्यात आले. यावेळी शिवसेना पक्षप्रमु…\n",
      "Following cabinet decisions were taken today under the chairmanship of CM Uddhav Balasaheb Thackeray https://t.co/UPlT3sc3Uy\n",
      "मुख्यमंत्री उद्धव बाळासाहेब ठाकरे यांच्या अध्यक्षतेखाली आज झालेल्या मंत्रिमंडळ बैठकीत पुढील निर्णय घेण्यात आले. https://t.co/qJ2anyf8wu\n",
      "RT @MahaDGIPR: महाराष्ट्र विमानतळ विकास कंपनी संचालक मंडळ बैठकीत मुख्यमंत्री #उद्धवठाकरे यांनी मार्गदर्शन केले. 'बेस्ट स्टेट विथ अ डेडिकेटे…\n",
      "त्यांच्या पार्थिवावर शासकीय इतमामात अंत्यविधी करण्याचे निर्देश मुख्यमंत्र्यांनी दिले आहेत.\n",
      "संतूर वाद्याची जगाला ओळख करून देणारा, संतूरच्या अलौकिक तरंगांनी जगाला भुरळ घालणारा भारतीय संगीत क्षेत्राचा मानबिंदू… https://t.co/W8FuOyxI5W\n",
      "मुख्यमंत्री उद्धव बाळासाहेब ठाकरे यांच्या हस्ते आज 'सर्वांसाठी पाणी' या धोरणाचा शुभारंभ झाला. या धोरणांतर्गत बृह… https://t.co/zcAT3aSU3O\n",
      "Ensuring equality of access to clean drinking water for all residents of Mumbai, CM Uddhav Balasaheb Thackeray toda… https://t.co/gIACHTjzj8\n",
      "https://t.co/1yFxw4oXhH\n",
      "https://t.co/Qyg25UQGxS\n",
      "छत्रपती शिवाजी महाराज व लोकराजा राजर्षी छत्रपती शाहू महाराज यांना अपेक्षित असलेला समाज आणि राज्य निर्माण करण्यासाठी… https://t.co/NAJ0x6E9Yp\n",
      "'लोकराजा राजर्षी छत्रपती शाहू महाराज कृतज्ञता पर्व' कार्यक्रम व ग्रंथ प्रकाशन - LIVE https://t.co/DO0JOuheLM\n",
      "RT @OfficeofUT: लोकराजा राजर्षी छत्रपती शाहू महाराज यांच्या शताब्दी स्मृती दिनानिमित्त त्यांच्या स्मृतींना विनम्र अभिवादन. राजर्षींचा जनक…\n"
     ]
    }
   ],
   "source": [
    "import tweepy\n",
    "auth = tweepy.OAuthHandler(\"p4ZmsXtlm2wwiTzbm9w7It590\", \"Er0VfM8wklbksAxMJC6mQmfoMbKjB4eTwWZuoDBggrnmNNxGmZ\")\n",
    "auth.set_access_token(\"1512475270602579972-1nffSUCLv6FauNLOKMMr2m41abWRfh\", \"mywFxDcGeOQF7SyX9wtEJBgvW3F6PNJKaPRGfz0p2yZfd\")\n",
    "api = tweepy.API(auth)\n",
    "tweets = api.home_timeline()\n",
    "for tweet in tweets:\n",
    "    print(tweet.text)"
   ]
  },
  {
   "cell_type": "code",
   "execution_count": null,
   "id": "a5d0e9da",
   "metadata": {},
   "outputs": [],
   "source": []
  }
 ],
 "metadata": {
  "kernelspec": {
   "display_name": "Python 3 (ipykernel)",
   "language": "python",
   "name": "python3"
  },
  "language_info": {
   "codemirror_mode": {
    "name": "ipython",
    "version": 3
   },
   "file_extension": ".py",
   "mimetype": "text/x-python",
   "name": "python",
   "nbconvert_exporter": "python",
   "pygments_lexer": "ipython3",
   "version": "3.9.7"
  }
 },
 "nbformat": 4,
 "nbformat_minor": 5
}
